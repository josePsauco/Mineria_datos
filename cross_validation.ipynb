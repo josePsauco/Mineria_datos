{
 "cells": [
  {
   "cell_type": "code",
   "execution_count": 56,
   "metadata": {},
   "outputs": [],
   "source": [
    "from sklearn import datasets\n",
    "from sklearn.model_selection import cross_val_predict, cross_val_score, cross_validate\n",
    "from sklearn import linear_model\n",
    "import matplotlib.pyplot as plt\n",
    "import pandas as pd\n",
    "\n",
    "\n"
   ]
  },
  {
   "cell_type": "code",
   "execution_count": 57,
   "metadata": {},
   "outputs": [],
   "source": [
    "data = pd.read_csv('c:/Users/MANOLO/Downloads/vehiculos_procesado.csv')"
   ]
  },
  {
   "cell_type": "code",
   "execution_count": 60,
   "metadata": {},
   "outputs": [
    {
     "data": {
      "text/html": [
       "<div>\n",
       "<style scoped>\n",
       "    .dataframe tbody tr th:only-of-type {\n",
       "        vertical-align: middle;\n",
       "    }\n",
       "\n",
       "    .dataframe tbody tr th {\n",
       "        vertical-align: top;\n",
       "    }\n",
       "\n",
       "    .dataframe thead th {\n",
       "        text-align: right;\n",
       "    }\n",
       "</style>\n",
       "<table border=\"1\" class=\"dataframe\">\n",
       "  <thead>\n",
       "    <tr style=\"text-align: right;\">\n",
       "      <th></th>\n",
       "      <th>consumo</th>\n",
       "      <th>co2</th>\n",
       "      <th>cilindros</th>\n",
       "      <th>desplazamiento</th>\n",
       "    </tr>\n",
       "  </thead>\n",
       "  <tbody>\n",
       "    <tr>\n",
       "      <th>0</th>\n",
       "      <td>17</td>\n",
       "      <td>522.764706</td>\n",
       "      <td>4.0</td>\n",
       "      <td>2.5</td>\n",
       "    </tr>\n",
       "    <tr>\n",
       "      <th>1</th>\n",
       "      <td>13</td>\n",
       "      <td>683.615385</td>\n",
       "      <td>6.0</td>\n",
       "      <td>4.2</td>\n",
       "    </tr>\n",
       "    <tr>\n",
       "      <th>2</th>\n",
       "      <td>16</td>\n",
       "      <td>555.437500</td>\n",
       "      <td>4.0</td>\n",
       "      <td>2.5</td>\n",
       "    </tr>\n",
       "    <tr>\n",
       "      <th>3</th>\n",
       "      <td>13</td>\n",
       "      <td>683.615385</td>\n",
       "      <td>6.0</td>\n",
       "      <td>4.2</td>\n",
       "    </tr>\n",
       "    <tr>\n",
       "      <th>4</th>\n",
       "      <td>16</td>\n",
       "      <td>555.437500</td>\n",
       "      <td>6.0</td>\n",
       "      <td>3.8</td>\n",
       "    </tr>\n",
       "    <tr>\n",
       "      <th>...</th>\n",
       "      <td>...</td>\n",
       "      <td>...</td>\n",
       "      <td>...</td>\n",
       "      <td>...</td>\n",
       "    </tr>\n",
       "    <tr>\n",
       "      <th>35534</th>\n",
       "      <td>25</td>\n",
       "      <td>355.480000</td>\n",
       "      <td>4.0</td>\n",
       "      <td>1.3</td>\n",
       "    </tr>\n",
       "    <tr>\n",
       "      <th>35535</th>\n",
       "      <td>26</td>\n",
       "      <td>341.807692</td>\n",
       "      <td>4.0</td>\n",
       "      <td>1.1</td>\n",
       "    </tr>\n",
       "    <tr>\n",
       "      <th>35536</th>\n",
       "      <td>26</td>\n",
       "      <td>341.807692</td>\n",
       "      <td>4.0</td>\n",
       "      <td>1.1</td>\n",
       "    </tr>\n",
       "    <tr>\n",
       "      <th>35537</th>\n",
       "      <td>25</td>\n",
       "      <td>355.480000</td>\n",
       "      <td>4.0</td>\n",
       "      <td>1.3</td>\n",
       "    </tr>\n",
       "    <tr>\n",
       "      <th>35538</th>\n",
       "      <td>25</td>\n",
       "      <td>355.480000</td>\n",
       "      <td>4.0</td>\n",
       "      <td>1.1</td>\n",
       "    </tr>\n",
       "  </tbody>\n",
       "</table>\n",
       "<p>35539 rows × 4 columns</p>\n",
       "</div>"
      ],
      "text/plain": [
       "       consumo         co2  cilindros  desplazamiento\n",
       "0           17  522.764706        4.0             2.5\n",
       "1           13  683.615385        6.0             4.2\n",
       "2           16  555.437500        4.0             2.5\n",
       "3           13  683.615385        6.0             4.2\n",
       "4           16  555.437500        6.0             3.8\n",
       "...        ...         ...        ...             ...\n",
       "35534       25  355.480000        4.0             1.3\n",
       "35535       26  341.807692        4.0             1.1\n",
       "35536       26  341.807692        4.0             1.1\n",
       "35537       25  355.480000        4.0             1.3\n",
       "35538       25  355.480000        4.0             1.1\n",
       "\n",
       "[35539 rows x 4 columns]"
      ]
     },
     "execution_count": 60,
     "metadata": {},
     "output_type": "execute_result"
    }
   ],
   "source": [
    "datos_ejercicio = data.loc[:,['consumo','co2','cilindros','desplazamiento']] \n",
    "datos_ejercicio"
   ]
  },
  {
   "cell_type": "code",
   "execution_count": 61,
   "metadata": {},
   "outputs": [],
   "source": [
    "x = datos_ejercicio.iloc[:,0:1]\n",
    "y = datos_ejercicio.iloc[:,1:2]\n",
    "w = datos_ejercicio.iloc[:,2:3]\n",
    "z = datos_ejercicio.iloc[:,3:4]"
   ]
  },
  {
   "cell_type": "code",
   "execution_count": 54,
   "metadata": {},
   "outputs": [
    {
     "data": {
      "text/plain": [
       "(       consumo\n",
       " 0           17\n",
       " 1           13\n",
       " 2           16\n",
       " 3           13\n",
       " 4           16\n",
       " ...        ...\n",
       " 35534       25\n",
       " 35535       26\n",
       " 35536       26\n",
       " 35537       25\n",
       " 35538       25\n",
       " \n",
       " [35539 rows x 1 columns],\n",
       "               co2\n",
       " 0      522.764706\n",
       " 1      683.615385\n",
       " 2      555.437500\n",
       " 3      683.615385\n",
       " 4      555.437500\n",
       " ...           ...\n",
       " 35534  355.480000\n",
       " 35535  341.807692\n",
       " 35536  341.807692\n",
       " 35537  355.480000\n",
       " 35538  355.480000\n",
       " \n",
       " [35539 rows x 1 columns],\n",
       "        cilindros\n",
       " 0            4.0\n",
       " 1            6.0\n",
       " 2            4.0\n",
       " 3            6.0\n",
       " 4            6.0\n",
       " ...          ...\n",
       " 35534        4.0\n",
       " 35535        4.0\n",
       " 35536        4.0\n",
       " 35537        4.0\n",
       " 35538        4.0\n",
       " \n",
       " [35539 rows x 1 columns],\n",
       "        desplazamiento\n",
       " 0                 2.5\n",
       " 1                 4.2\n",
       " 2                 2.5\n",
       " 3                 4.2\n",
       " 4                 3.8\n",
       " ...               ...\n",
       " 35534             1.3\n",
       " 35535             1.1\n",
       " 35536             1.1\n",
       " 35537             1.3\n",
       " 35538             1.1\n",
       " \n",
       " [35539 rows x 1 columns])"
      ]
     },
     "execution_count": 54,
     "metadata": {},
     "output_type": "execute_result"
    }
   ],
   "source": [
    "x,y,w,z"
   ]
  },
  {
   "cell_type": "code",
   "execution_count": null,
   "metadata": {},
   "outputs": [],
   "source": [
    "lr = linear_model.LinearRegression()\n",
    "X, y = datasets.load_boston(return_X_y=True)\n",
    "\n",
    "# cross_val_predict returns an array of the same size as `y` where each entry\n",
    "# is a prediction obtained by cross validation:\n"
   ]
  },
  {
   "cell_type": "code",
   "execution_count": null,
   "metadata": {},
   "outputs": [],
   "source": [
    "X[:2]"
   ]
  },
  {
   "cell_type": "code",
   "execution_count": null,
   "metadata": {},
   "outputs": [],
   "source": [
    "scores=cross_val_score(lr, X, y, cv=10, scoring=\"r2\")\n",
    "scores"
   ]
  },
  {
   "cell_type": "code",
   "execution_count": null,
   "metadata": {},
   "outputs": [],
   "source": [
    "scores.mean()"
   ]
  },
  {
   "cell_type": "code",
   "execution_count": null,
   "metadata": {},
   "outputs": [],
   "source": [
    "cv_results = cross_validate(lr, X, y, cv=3, scoring=\"r2\")\n",
    "print(cv_results)\n"
   ]
  },
  {
   "cell_type": "code",
   "execution_count": null,
   "metadata": {},
   "outputs": [],
   "source": [
    "sorted(cv_results.keys())\n",
    "print(cv_results['test_score'])"
   ]
  },
  {
   "cell_type": "code",
   "execution_count": null,
   "metadata": {},
   "outputs": [],
   "source": [
    "predicted = cross_val_predict(lr, X, y, cv=10)\n",
    "\n",
    "fig, ax = plt.subplots()\n",
    "ax.scatter(y, predicted, edgecolors=(0, 0, 0))\n",
    "ax.plot([y.min(), y.max()], [y.min(), y.max()], 'r--', linewidth=4)\n",
    "ax.set_xlabel('Measured')\n",
    "ax.set_ylabel('Predicted')\n",
    "plt.show()"
   ]
  },
  {
   "cell_type": "code",
   "execution_count": null,
   "metadata": {},
   "outputs": [],
   "source": []
  }
 ],
 "metadata": {
  "kernelspec": {
   "display_name": "Python 3",
   "language": "python",
   "name": "python3"
  },
  "language_info": {
   "codemirror_mode": {
    "name": "ipython",
    "version": 3
   },
   "file_extension": ".py",
   "mimetype": "text/x-python",
   "name": "python",
   "nbconvert_exporter": "python",
   "pygments_lexer": "ipython3",
   "version": "3.8.3"
  }
 },
 "nbformat": 4,
 "nbformat_minor": 2
}

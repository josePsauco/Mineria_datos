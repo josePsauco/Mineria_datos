{
 "cells": [
  {
   "cell_type": "markdown",
   "metadata": {},
   "source": [
    "### "
   ]
  },
  {
   "cell_type": "markdown",
   "metadata": {},
   "source": [
    "Primer Previo Final de Mineria de Datos"
   ]
  },
  {
   "cell_type": "markdown",
   "metadata": {},
   "source": [
    "#### Descripción\n",
    "\n",
    "\n",
    "El dataset consiste en información relativa al alquiler de habitaciones utilizando la aplicación de Airbnb. Dicha información incluye la siguiente informacion \n",
    "room_id: numero del cuarto\n",
    "host_id: numero del cliente\n",
    "room_type:tipo_de_habitacion\n",
    "neighborhood:barrio\n",
    "reviews:cantidad de comentarios\n",
    "overall_satisfaction: calificación de satisfaccion\n",
    "accommodates:cantidad de personas en la acomodacion\n",
    "bedrooms:cantidad de dormitorios\n",
    "price:precio\n",
    "\n",
    "EJERCICIOS\n",
    "\n",
    "1. leer el archivo airbnb.csv y llame al dataframe df (valor 0.2)\n",
    "    - cambiar los nombres de las columnas de la siguiente manera:\n",
    "                room_id: room_id\n",
    "                host_id: host_id\n",
    "                room_type:tipo_de_habitacion\n",
    "                neighborhood:barrio\n",
    "                reviews:comentarios\n",
    "                overall_satisfaction: satisfaccion\n",
    "                accommodates:acomodacion\n",
    "                bedrooms:dormitorios\n",
    "                price:precio\n",
    "    - valor 0.3\n",
    "    - Muestre las primeras 5 filas\n",
    "    - Muestre el tamaño del dataframe"
   ]
  },
  {
   "cell_type": "code",
   "execution_count": null,
   "metadata": {},
   "outputs": [],
   "source": []
  },
  {
   "cell_type": "code",
   "execution_count": null,
   "metadata": {},
   "outputs": [],
   "source": [
    "import pandas as pd\n",
    "import matplotlib.pyplot as plt\n",
    "import json"
   ]
  },
  {
   "cell_type": "code",
   "execution_count": null,
   "metadata": {},
   "outputs": [],
   "source": [
    "df = pd.read_csv('c:/Users/MANOLO/Downloads/airbnb.csv')\n",
    "df.columns = [\"room_id\",\"host_id\",\"tipo_de_habitacion\",\"barrio\",\"comentarios\",\"satisfaccion\",\"acomodacion\",\"dormitorios\",\"precio\"]"
   ]
  },
  {
   "cell_type": "code",
   "execution_count": null,
   "metadata": {},
   "outputs": [],
   "source": [
    "df"
   ]
  },
  {
   "cell_type": "code",
   "execution_count": null,
   "metadata": {},
   "outputs": [],
   "source": [
    "df.head(5)"
   ]
  },
  {
   "cell_type": "code",
   "execution_count": null,
   "metadata": {},
   "outputs": [],
   "source": [
    "df.shape"
   ]
  },
  {
   "cell_type": "markdown",
   "metadata": {},
   "source": [
    "# Analisis exploratorio de datos (EDA)"
   ]
  },
  {
   "cell_type": "markdown",
   "metadata": {},
   "source": [
    "- Muestre la descripcion del dataframe df vale (0.2)"
   ]
  },
  {
   "cell_type": "code",
   "execution_count": null,
   "metadata": {},
   "outputs": [],
   "source": [
    "est = pd.DataFrame(df);\n",
    "est.describe()"
   ]
  },
  {
   "cell_type": "markdown",
   "metadata": {},
   "source": [
    "### Valores inexistentes\n"
   ]
  },
  {
   "cell_type": "markdown",
   "metadata": {},
   "source": [
    "Muchos algoritmos de Machine Learning requieren que no existan valores inexistentes (o NaN como se llaman a veces).\n",
    "\n",
    "Hay varias técnicas para tratar dichos valores:"
   ]
  },
  {
   "cell_type": "markdown",
   "metadata": {},
   "source": [
    "2. eliminar records con valores inexistentes valor 0.3\n",
    "    - Elimine las filas con valores nulos en \"acomodacion\", \"dormitorios\" en un nuevo dataframe llamado df_sin_null\n",
    "    - Muestre el tamaño de este nuevo dataframe df_sin_null"
   ]
  },
  {
   "cell_type": "code",
   "execution_count": null,
   "metadata": {},
   "outputs": [],
   "source": []
  },
  {
   "cell_type": "code",
   "execution_count": null,
   "metadata": {},
   "outputs": [],
   "source": [
    "df_sin_null = df\n",
    "df_sin_null.drop(df_sin_null[df_sin_null.acomodacion.isnull()].index, inplace = True)\n",
    "df_sin_null.drop(df_sin_null[df_sin_null.dormitorios.isnull()].index, inplace = True)\n",
    "df_sin_null.shape"
   ]
  },
  {
   "cell_type": "markdown",
   "metadata": {},
   "source": [
    "3. elimine en el dataframe df las filas que tengan satisfaccion en 0. \n",
    "    - muestre el nuevo tamaño .valor 0.2"
   ]
  },
  {
   "cell_type": "code",
   "execution_count": null,
   "metadata": {},
   "outputs": [],
   "source": []
  },
  {
   "cell_type": "code",
   "execution_count": 204,
   "metadata": {},
   "outputs": [
    {
     "data": {
      "text/plain": [
       "(9386, 9)"
      ]
     },
     "execution_count": 204,
     "metadata": {},
     "output_type": "execute_result"
    }
   ],
   "source": [
    "condicion = df[ df['satisfaccion'] == 0 ].index\n",
    "df.drop(condicion , inplace=True)\n",
    "df.drop(df[df.satisfaccion.isnull()].index, inplace = True)\n",
    "df.shape"
   ]
  },
  {
   "cell_type": "markdown",
   "metadata": {},
   "source": [
    "4.\n",
    "Imputacion de datos: Reemplazar los valores inexistentes por un valor en particular, pero que está elegido con cierto criterio. Prácticas comunes de imputacion de datos son reemplazar los valores inexistentes de una variable con su media, moda o mediana.\n",
    "- Calcule la mediana de acomodacion y la mediana de dormitorios\n",
    "- En la columna acomodacion reemplace los nulos por la mediana de esa columna\n",
    "- En la columna dormitorios reemplace los nulos por la mediana de esa columna\n",
    "- muestre las primeras 20 filas\n",
    "valor 0.5"
   ]
  },
  {
   "cell_type": "code",
   "execution_count": null,
   "metadata": {},
   "outputs": [],
   "source": []
  },
  {
   "cell_type": "markdown",
   "metadata": {},
   "source": [
    "### Tambien es importante dejar las columnas que nos sirven para realizar el modelo de predicción\n",
    "#### Valor 0.3"
   ]
  },
  {
   "cell_type": "markdown",
   "metadata": {},
   "source": [
    "- Elimine las columnas \"room_id\", \"host_id\", \"barrio\"\n",
    "- muestre las prieras 5 filas"
   ]
  },
  {
   "cell_type": "code",
   "execution_count": null,
   "metadata": {},
   "outputs": [],
   "source": []
  },
  {
   "cell_type": "code",
   "execution_count": 205,
   "metadata": {},
   "outputs": [
    {
     "data": {
      "text/html": [
       "<div>\n",
       "<style scoped>\n",
       "    .dataframe tbody tr th:only-of-type {\n",
       "        vertical-align: middle;\n",
       "    }\n",
       "\n",
       "    .dataframe tbody tr th {\n",
       "        vertical-align: top;\n",
       "    }\n",
       "\n",
       "    .dataframe thead th {\n",
       "        text-align: right;\n",
       "    }\n",
       "</style>\n",
       "<table border=\"1\" class=\"dataframe\">\n",
       "  <thead>\n",
       "    <tr style=\"text-align: right;\">\n",
       "      <th></th>\n",
       "      <th>room_id</th>\n",
       "      <th>host_id</th>\n",
       "      <th>tipo_de_habitacion</th>\n",
       "      <th>barrio</th>\n",
       "      <th>comentarios</th>\n",
       "      <th>satisfaccion</th>\n",
       "      <th>acomodacion</th>\n",
       "      <th>dormitorios</th>\n",
       "      <th>precio</th>\n",
       "    </tr>\n",
       "  </thead>\n",
       "  <tbody>\n",
       "    <tr>\n",
       "      <th>0</th>\n",
       "      <td>6499</td>\n",
       "      <td>14455</td>\n",
       "      <td>Entire home/apt</td>\n",
       "      <td>Belém</td>\n",
       "      <td>8</td>\n",
       "      <td>5.0</td>\n",
       "      <td>2.0</td>\n",
       "      <td>1.0</td>\n",
       "      <td>57.0</td>\n",
       "    </tr>\n",
       "    <tr>\n",
       "      <th>2</th>\n",
       "      <td>25659</td>\n",
       "      <td>107347</td>\n",
       "      <td>Entire home/apt</td>\n",
       "      <td>Santa Maria Maior</td>\n",
       "      <td>63</td>\n",
       "      <td>5.0</td>\n",
       "      <td>3.0</td>\n",
       "      <td>1.0</td>\n",
       "      <td>69.0</td>\n",
       "    </tr>\n",
       "    <tr>\n",
       "      <th>3</th>\n",
       "      <td>29248</td>\n",
       "      <td>125768</td>\n",
       "      <td>Entire home/apt</td>\n",
       "      <td>Santa Maria Maior</td>\n",
       "      <td>225</td>\n",
       "      <td>4.5</td>\n",
       "      <td>4.0</td>\n",
       "      <td>1.0</td>\n",
       "      <td>58.0</td>\n",
       "    </tr>\n",
       "    <tr>\n",
       "      <th>4</th>\n",
       "      <td>29396</td>\n",
       "      <td>126415</td>\n",
       "      <td>Entire home/apt</td>\n",
       "      <td>Santa Maria Maior</td>\n",
       "      <td>132</td>\n",
       "      <td>5.0</td>\n",
       "      <td>4.0</td>\n",
       "      <td>1.0</td>\n",
       "      <td>67.0</td>\n",
       "    </tr>\n",
       "    <tr>\n",
       "      <th>5</th>\n",
       "      <td>29720</td>\n",
       "      <td>128075</td>\n",
       "      <td>Entire home/apt</td>\n",
       "      <td>Estrela</td>\n",
       "      <td>14</td>\n",
       "      <td>5.0</td>\n",
       "      <td>16.0</td>\n",
       "      <td>9.0</td>\n",
       "      <td>1154.0</td>\n",
       "    </tr>\n",
       "    <tr>\n",
       "      <th>6</th>\n",
       "      <td>29872</td>\n",
       "      <td>128698</td>\n",
       "      <td>Entire home/apt</td>\n",
       "      <td>Alcântara</td>\n",
       "      <td>25</td>\n",
       "      <td>5.0</td>\n",
       "      <td>2.0</td>\n",
       "      <td>1.0</td>\n",
       "      <td>75.0</td>\n",
       "    </tr>\n",
       "    <tr>\n",
       "      <th>7</th>\n",
       "      <td>29891</td>\n",
       "      <td>128792</td>\n",
       "      <td>Entire home/apt</td>\n",
       "      <td>Misericórdia</td>\n",
       "      <td>28</td>\n",
       "      <td>5.0</td>\n",
       "      <td>3.0</td>\n",
       "      <td>1.0</td>\n",
       "      <td>49.0</td>\n",
       "    </tr>\n",
       "    <tr>\n",
       "      <th>8</th>\n",
       "      <td>29915</td>\n",
       "      <td>128890</td>\n",
       "      <td>Entire home/apt</td>\n",
       "      <td>Avenidas Novas</td>\n",
       "      <td>28</td>\n",
       "      <td>4.5</td>\n",
       "      <td>3.0</td>\n",
       "      <td>1.0</td>\n",
       "      <td>58.0</td>\n",
       "    </tr>\n",
       "    <tr>\n",
       "      <th>9</th>\n",
       "      <td>33312</td>\n",
       "      <td>144398</td>\n",
       "      <td>Entire home/apt</td>\n",
       "      <td>Misericórdia</td>\n",
       "      <td>24</td>\n",
       "      <td>4.5</td>\n",
       "      <td>4.0</td>\n",
       "      <td>1.0</td>\n",
       "      <td>66.0</td>\n",
       "    </tr>\n",
       "    <tr>\n",
       "      <th>12</th>\n",
       "      <td>34977</td>\n",
       "      <td>146695</td>\n",
       "      <td>Entire home/apt</td>\n",
       "      <td>Santa Maria Maior</td>\n",
       "      <td>54</td>\n",
       "      <td>4.5</td>\n",
       "      <td>6.0</td>\n",
       "      <td>2.0</td>\n",
       "      <td>60.0</td>\n",
       "    </tr>\n",
       "    <tr>\n",
       "      <th>13</th>\n",
       "      <td>40817</td>\n",
       "      <td>176410</td>\n",
       "      <td>Entire home/apt</td>\n",
       "      <td>Misericórdia</td>\n",
       "      <td>229</td>\n",
       "      <td>4.5</td>\n",
       "      <td>2.0</td>\n",
       "      <td>1.0</td>\n",
       "      <td>52.0</td>\n",
       "    </tr>\n",
       "    <tr>\n",
       "      <th>14</th>\n",
       "      <td>42172</td>\n",
       "      <td>184400</td>\n",
       "      <td>Entire home/apt</td>\n",
       "      <td>Santa Maria Maior</td>\n",
       "      <td>45</td>\n",
       "      <td>4.5</td>\n",
       "      <td>6.0</td>\n",
       "      <td>2.0</td>\n",
       "      <td>138.0</td>\n",
       "    </tr>\n",
       "    <tr>\n",
       "      <th>15</th>\n",
       "      <td>42519</td>\n",
       "      <td>136230</td>\n",
       "      <td>Entire home/apt</td>\n",
       "      <td>Misericórdia</td>\n",
       "      <td>79</td>\n",
       "      <td>4.5</td>\n",
       "      <td>3.0</td>\n",
       "      <td>1.0</td>\n",
       "      <td>87.0</td>\n",
       "    </tr>\n",
       "    <tr>\n",
       "      <th>17</th>\n",
       "      <td>46567</td>\n",
       "      <td>208343</td>\n",
       "      <td>Private room</td>\n",
       "      <td>Avenidas Novas</td>\n",
       "      <td>3</td>\n",
       "      <td>5.0</td>\n",
       "      <td>2.0</td>\n",
       "      <td>1.0</td>\n",
       "      <td>39.0</td>\n",
       "    </tr>\n",
       "    <tr>\n",
       "      <th>18</th>\n",
       "      <td>47717</td>\n",
       "      <td>217058</td>\n",
       "      <td>Entire home/apt</td>\n",
       "      <td>Santa Maria Maior</td>\n",
       "      <td>70</td>\n",
       "      <td>4.5</td>\n",
       "      <td>3.0</td>\n",
       "      <td>1.0</td>\n",
       "      <td>57.0</td>\n",
       "    </tr>\n",
       "    <tr>\n",
       "      <th>19</th>\n",
       "      <td>50108</td>\n",
       "      <td>229376</td>\n",
       "      <td>Entire home/apt</td>\n",
       "      <td>Estrela</td>\n",
       "      <td>33</td>\n",
       "      <td>4.5</td>\n",
       "      <td>4.0</td>\n",
       "      <td>1.0</td>\n",
       "      <td>69.0</td>\n",
       "    </tr>\n",
       "    <tr>\n",
       "      <th>21</th>\n",
       "      <td>56906</td>\n",
       "      <td>270457</td>\n",
       "      <td>Entire home/apt</td>\n",
       "      <td>São Vicente</td>\n",
       "      <td>86</td>\n",
       "      <td>4.5</td>\n",
       "      <td>3.0</td>\n",
       "      <td>1.0</td>\n",
       "      <td>52.0</td>\n",
       "    </tr>\n",
       "    <tr>\n",
       "      <th>22</th>\n",
       "      <td>57850</td>\n",
       "      <td>276092</td>\n",
       "      <td>Entire home/apt</td>\n",
       "      <td>Estrela</td>\n",
       "      <td>52</td>\n",
       "      <td>4.5</td>\n",
       "      <td>3.0</td>\n",
       "      <td>2.0</td>\n",
       "      <td>70.0</td>\n",
       "    </tr>\n",
       "    <tr>\n",
       "      <th>23</th>\n",
       "      <td>59227</td>\n",
       "      <td>184400</td>\n",
       "      <td>Entire home/apt</td>\n",
       "      <td>Misericórdia</td>\n",
       "      <td>25</td>\n",
       "      <td>4.5</td>\n",
       "      <td>7.0</td>\n",
       "      <td>3.0</td>\n",
       "      <td>138.0</td>\n",
       "    </tr>\n",
       "    <tr>\n",
       "      <th>24</th>\n",
       "      <td>65553</td>\n",
       "      <td>320407</td>\n",
       "      <td>Entire home/apt</td>\n",
       "      <td>Campo de Ourique</td>\n",
       "      <td>102</td>\n",
       "      <td>4.5</td>\n",
       "      <td>2.0</td>\n",
       "      <td>1.0</td>\n",
       "      <td>58.0</td>\n",
       "    </tr>\n",
       "  </tbody>\n",
       "</table>\n",
       "</div>"
      ],
      "text/plain": [
       "    room_id  host_id tipo_de_habitacion             barrio  comentarios  \\\n",
       "0      6499    14455    Entire home/apt              Belém            8   \n",
       "2     25659   107347    Entire home/apt  Santa Maria Maior           63   \n",
       "3     29248   125768    Entire home/apt  Santa Maria Maior          225   \n",
       "4     29396   126415    Entire home/apt  Santa Maria Maior          132   \n",
       "5     29720   128075    Entire home/apt            Estrela           14   \n",
       "6     29872   128698    Entire home/apt          Alcântara           25   \n",
       "7     29891   128792    Entire home/apt       Misericórdia           28   \n",
       "8     29915   128890    Entire home/apt     Avenidas Novas           28   \n",
       "9     33312   144398    Entire home/apt       Misericórdia           24   \n",
       "12    34977   146695    Entire home/apt  Santa Maria Maior           54   \n",
       "13    40817   176410    Entire home/apt       Misericórdia          229   \n",
       "14    42172   184400    Entire home/apt  Santa Maria Maior           45   \n",
       "15    42519   136230    Entire home/apt       Misericórdia           79   \n",
       "17    46567   208343       Private room     Avenidas Novas            3   \n",
       "18    47717   217058    Entire home/apt  Santa Maria Maior           70   \n",
       "19    50108   229376    Entire home/apt            Estrela           33   \n",
       "21    56906   270457    Entire home/apt        São Vicente           86   \n",
       "22    57850   276092    Entire home/apt            Estrela           52   \n",
       "23    59227   184400    Entire home/apt       Misericórdia           25   \n",
       "24    65553   320407    Entire home/apt   Campo de Ourique          102   \n",
       "\n",
       "    satisfaccion  acomodacion  dormitorios  precio  \n",
       "0            5.0          2.0          1.0    57.0  \n",
       "2            5.0          3.0          1.0    69.0  \n",
       "3            4.5          4.0          1.0    58.0  \n",
       "4            5.0          4.0          1.0    67.0  \n",
       "5            5.0         16.0          9.0  1154.0  \n",
       "6            5.0          2.0          1.0    75.0  \n",
       "7            5.0          3.0          1.0    49.0  \n",
       "8            4.5          3.0          1.0    58.0  \n",
       "9            4.5          4.0          1.0    66.0  \n",
       "12           4.5          6.0          2.0    60.0  \n",
       "13           4.5          2.0          1.0    52.0  \n",
       "14           4.5          6.0          2.0   138.0  \n",
       "15           4.5          3.0          1.0    87.0  \n",
       "17           5.0          2.0          1.0    39.0  \n",
       "18           4.5          3.0          1.0    57.0  \n",
       "19           4.5          4.0          1.0    69.0  \n",
       "21           4.5          3.0          1.0    52.0  \n",
       "22           4.5          3.0          2.0    70.0  \n",
       "23           4.5          7.0          3.0   138.0  \n",
       "24           4.5          2.0          1.0    58.0  "
      ]
     },
     "execution_count": 205,
     "metadata": {},
     "output_type": "execute_result"
    }
   ],
   "source": [
    "data = pd.DataFrame(df)\n",
    "mediaA = data['acomodacion'].median()\n",
    "mediaD = data['dormitorios'].median()\n",
    "data['acomodacion'] = data['acomodacion'].fillna(mediaA)\n",
    "data['dormitorios'] =data['dormitorios'].fillna(mediaD)\n",
    "data.head(20)"
   ]
  },
  {
   "cell_type": "code",
   "execution_count": 206,
   "metadata": {},
   "outputs": [
    {
     "data": {
      "text/html": [
       "<div>\n",
       "<style scoped>\n",
       "    .dataframe tbody tr th:only-of-type {\n",
       "        vertical-align: middle;\n",
       "    }\n",
       "\n",
       "    .dataframe tbody tr th {\n",
       "        vertical-align: top;\n",
       "    }\n",
       "\n",
       "    .dataframe thead th {\n",
       "        text-align: right;\n",
       "    }\n",
       "</style>\n",
       "<table border=\"1\" class=\"dataframe\">\n",
       "  <thead>\n",
       "    <tr style=\"text-align: right;\">\n",
       "      <th></th>\n",
       "      <th>tipo_de_habitacion</th>\n",
       "      <th>comentarios</th>\n",
       "      <th>satisfaccion</th>\n",
       "      <th>acomodacion</th>\n",
       "      <th>dormitorios</th>\n",
       "      <th>precio</th>\n",
       "    </tr>\n",
       "  </thead>\n",
       "  <tbody>\n",
       "    <tr>\n",
       "      <th>0</th>\n",
       "      <td>Entire home/apt</td>\n",
       "      <td>8</td>\n",
       "      <td>5.0</td>\n",
       "      <td>2.0</td>\n",
       "      <td>1.0</td>\n",
       "      <td>57.0</td>\n",
       "    </tr>\n",
       "    <tr>\n",
       "      <th>2</th>\n",
       "      <td>Entire home/apt</td>\n",
       "      <td>63</td>\n",
       "      <td>5.0</td>\n",
       "      <td>3.0</td>\n",
       "      <td>1.0</td>\n",
       "      <td>69.0</td>\n",
       "    </tr>\n",
       "    <tr>\n",
       "      <th>3</th>\n",
       "      <td>Entire home/apt</td>\n",
       "      <td>225</td>\n",
       "      <td>4.5</td>\n",
       "      <td>4.0</td>\n",
       "      <td>1.0</td>\n",
       "      <td>58.0</td>\n",
       "    </tr>\n",
       "    <tr>\n",
       "      <th>4</th>\n",
       "      <td>Entire home/apt</td>\n",
       "      <td>132</td>\n",
       "      <td>5.0</td>\n",
       "      <td>4.0</td>\n",
       "      <td>1.0</td>\n",
       "      <td>67.0</td>\n",
       "    </tr>\n",
       "    <tr>\n",
       "      <th>5</th>\n",
       "      <td>Entire home/apt</td>\n",
       "      <td>14</td>\n",
       "      <td>5.0</td>\n",
       "      <td>16.0</td>\n",
       "      <td>9.0</td>\n",
       "      <td>1154.0</td>\n",
       "    </tr>\n",
       "  </tbody>\n",
       "</table>\n",
       "</div>"
      ],
      "text/plain": [
       "  tipo_de_habitacion  comentarios  satisfaccion  acomodacion  dormitorios  \\\n",
       "0    Entire home/apt            8           5.0          2.0          1.0   \n",
       "2    Entire home/apt           63           5.0          3.0          1.0   \n",
       "3    Entire home/apt          225           4.5          4.0          1.0   \n",
       "4    Entire home/apt          132           5.0          4.0          1.0   \n",
       "5    Entire home/apt           14           5.0         16.0          9.0   \n",
       "\n",
       "   precio  \n",
       "0    57.0  \n",
       "2    69.0  \n",
       "3    58.0  \n",
       "4    67.0  \n",
       "5  1154.0  "
      ]
     },
     "execution_count": 206,
     "metadata": {},
     "output_type": "execute_result"
    }
   ],
   "source": [
    "dato = pd.DataFrame(df)\n",
    "dato =dato.drop(['room_id'],axis=1)\n",
    "dato =dato.drop(['host_id'],axis=1)\n",
    "dato =dato.drop(['barrio'],axis=1)\n",
    "dato.head(5)"
   ]
  },
  {
   "cell_type": "markdown",
   "metadata": {},
   "source": [
    "- Convierta a variables dummy a la columna \"tipo_de habitacion\" coloque como prefijo la palabra \"tipo\"\n",
    "- muestre las primeras 5 filas. valor 0.5"
   ]
  },
  {
   "cell_type": "code",
   "execution_count": null,
   "metadata": {},
   "outputs": [],
   "source": []
  },
  {
   "cell_type": "code",
   "execution_count": 207,
   "metadata": {},
   "outputs": [
    {
     "data": {
      "text/html": [
       "<div>\n",
       "<style scoped>\n",
       "    .dataframe tbody tr th:only-of-type {\n",
       "        vertical-align: middle;\n",
       "    }\n",
       "\n",
       "    .dataframe tbody tr th {\n",
       "        vertical-align: top;\n",
       "    }\n",
       "\n",
       "    .dataframe thead th {\n",
       "        text-align: right;\n",
       "    }\n",
       "</style>\n",
       "<table border=\"1\" class=\"dataframe\">\n",
       "  <thead>\n",
       "    <tr style=\"text-align: right;\">\n",
       "      <th></th>\n",
       "      <th>tipo_Entire home/apt</th>\n",
       "      <th>tipo_Private room</th>\n",
       "      <th>tipo_Shared room</th>\n",
       "      <th>comentarios</th>\n",
       "      <th>satisfaccion</th>\n",
       "      <th>acomodacion</th>\n",
       "      <th>dormitorios</th>\n",
       "      <th>precio</th>\n",
       "    </tr>\n",
       "  </thead>\n",
       "  <tbody>\n",
       "    <tr>\n",
       "      <th>0</th>\n",
       "      <td>1</td>\n",
       "      <td>0</td>\n",
       "      <td>0</td>\n",
       "      <td>8</td>\n",
       "      <td>5.0</td>\n",
       "      <td>2.0</td>\n",
       "      <td>1.0</td>\n",
       "      <td>57.0</td>\n",
       "    </tr>\n",
       "    <tr>\n",
       "      <th>2</th>\n",
       "      <td>1</td>\n",
       "      <td>0</td>\n",
       "      <td>0</td>\n",
       "      <td>63</td>\n",
       "      <td>5.0</td>\n",
       "      <td>3.0</td>\n",
       "      <td>1.0</td>\n",
       "      <td>69.0</td>\n",
       "    </tr>\n",
       "    <tr>\n",
       "      <th>3</th>\n",
       "      <td>1</td>\n",
       "      <td>0</td>\n",
       "      <td>0</td>\n",
       "      <td>225</td>\n",
       "      <td>4.5</td>\n",
       "      <td>4.0</td>\n",
       "      <td>1.0</td>\n",
       "      <td>58.0</td>\n",
       "    </tr>\n",
       "    <tr>\n",
       "      <th>4</th>\n",
       "      <td>1</td>\n",
       "      <td>0</td>\n",
       "      <td>0</td>\n",
       "      <td>132</td>\n",
       "      <td>5.0</td>\n",
       "      <td>4.0</td>\n",
       "      <td>1.0</td>\n",
       "      <td>67.0</td>\n",
       "    </tr>\n",
       "    <tr>\n",
       "      <th>5</th>\n",
       "      <td>1</td>\n",
       "      <td>0</td>\n",
       "      <td>0</td>\n",
       "      <td>14</td>\n",
       "      <td>5.0</td>\n",
       "      <td>16.0</td>\n",
       "      <td>9.0</td>\n",
       "      <td>1154.0</td>\n",
       "    </tr>\n",
       "  </tbody>\n",
       "</table>\n",
       "</div>"
      ],
      "text/plain": [
       "   tipo_Entire home/apt  tipo_Private room  tipo_Shared room  comentarios  \\\n",
       "0                     1                  0                 0            8   \n",
       "2                     1                  0                 0           63   \n",
       "3                     1                  0                 0          225   \n",
       "4                     1                  0                 0          132   \n",
       "5                     1                  0                 0           14   \n",
       "\n",
       "   satisfaccion  acomodacion  dormitorios  precio  \n",
       "0           5.0          2.0          1.0    57.0  \n",
       "2           5.0          3.0          1.0    69.0  \n",
       "3           4.5          4.0          1.0    58.0  \n",
       "4           5.0          4.0          1.0    67.0  \n",
       "5           5.0         16.0          9.0  1154.0  "
      ]
     },
     "execution_count": 207,
     "metadata": {},
     "output_type": "execute_result"
    }
   ],
   "source": [
    "dummy = pd.get_dummies(df[\"tipo_de_habitacion\"] ,prefix=\"tipo\")\n",
    "c =pd.DataFrame(dummy);\n",
    "dato = dato.drop([\"tipo_de_habitacion\"],axis=1)\n",
    "f  = pd.concat([c,dato], axis = 1)\n",
    "f.head(5)"
   ]
  },
  {
   "cell_type": "markdown",
   "metadata": {},
   "source": [
    "### Graficación\n",
    "#### Valor 0.2"
   ]
  },
  {
   "cell_type": "markdown",
   "metadata": {},
   "source": [
    "-  Realice un diagrama de dispersion entre satisfaccion y la variable precio"
   ]
  },
  {
   "cell_type": "code",
   "execution_count": null,
   "metadata": {},
   "outputs": [],
   "source": []
  },
  {
   "cell_type": "code",
   "execution_count": 208,
   "metadata": {},
   "outputs": [
    {
     "data": {
      "text/plain": [
       "<matplotlib.axes._subplots.AxesSubplot at 0x13d5084c370>"
      ]
     },
     "execution_count": 208,
     "metadata": {},
     "output_type": "execute_result"
    },
    {
     "data": {
      "image/png": "[encoded data removed]",
      "text/plain": [
       "<Figure size 432x288 with 1 Axes>"
      ]
     },
     "metadata": {
      "needs_background": "light"
     },
     "output_type": "display_data"
    }
   ],
   "source": [
    "df.plot(kind=\"scatter\", x=\"satisfaccion\", y=\"precio\")"
   ]
  },
  {
   "cell_type": "markdown",
   "metadata": {},
   "source": [
    "### Modelamiento\n",
    "#### Valor 1.5"
   ]
  },
  {
   "cell_type": "markdown",
   "metadata": {},
   "source": [
    "- la variable dependiente es precio\n",
    "- las variables independientes son las demas : tipo_Private room, tipo_Shared room, comentarios, satisfaccion, acomodacion, dormitorios\n",
    "- Divida el set de entrenamiento y de prueba en 80% y 20% respectivamente\n",
    "- Realice el ajuste del modelo de regresion lineal \n",
    "- Realice la prediccion del modelo y genere una variable de prediccion llamada y_pred_train\n",
    "- Utilice una validacion cruzada de 10 folds (cv), encuentre el mejor score.\n",
    "- Realice la prediccón de validacion cruzada (cross_val_predict) del modelo de regresion lineal y genere una variable de prediccion llamada y_pred_val_cross"
   ]
  },
  {
   "cell_type": "code",
   "execution_count": 209,
   "metadata": {},
   "outputs": [],
   "source": [
    "import numpy as np\n",
    "import matplotlib.pyplot as plt\n",
    "import pandas as pd\n",
    "from sklearn import datasets\n",
    "from sklearn import linear_model\n",
    "from sklearn.model_selection import cross_val_predict, cross_val_score, cross_validate\n"
   ]
  },
  {
   "cell_type": "code",
   "execution_count": 210,
   "metadata": {},
   "outputs": [
    {
     "data": {
      "text/html": [
       "<div>\n",
       "<style scoped>\n",
       "    .dataframe tbody tr th:only-of-type {\n",
       "        vertical-align: middle;\n",
       "    }\n",
       "\n",
       "    .dataframe tbody tr th {\n",
       "        vertical-align: top;\n",
       "    }\n",
       "\n",
       "    .dataframe thead th {\n",
       "        text-align: right;\n",
       "    }\n",
       "</style>\n",
       "<table border=\"1\" class=\"dataframe\">\n",
       "  <thead>\n",
       "    <tr style=\"text-align: right;\">\n",
       "      <th></th>\n",
       "      <th>tipo_Private room</th>\n",
       "      <th>tipo_Shared room</th>\n",
       "      <th>comentarios</th>\n",
       "      <th>satisfaccion</th>\n",
       "      <th>acomodacion</th>\n",
       "      <th>dormitorios</th>\n",
       "    </tr>\n",
       "  </thead>\n",
       "  <tbody>\n",
       "    <tr>\n",
       "      <th>0</th>\n",
       "      <td>0</td>\n",
       "      <td>0</td>\n",
       "      <td>8</td>\n",
       "      <td>5.0</td>\n",
       "      <td>2.0</td>\n",
       "      <td>1.0</td>\n",
       "    </tr>\n",
       "    <tr>\n",
       "      <th>2</th>\n",
       "      <td>0</td>\n",
       "      <td>0</td>\n",
       "      <td>63</td>\n",
       "      <td>5.0</td>\n",
       "      <td>3.0</td>\n",
       "      <td>1.0</td>\n",
       "    </tr>\n",
       "    <tr>\n",
       "      <th>3</th>\n",
       "      <td>0</td>\n",
       "      <td>0</td>\n",
       "      <td>225</td>\n",
       "      <td>4.5</td>\n",
       "      <td>4.0</td>\n",
       "      <td>1.0</td>\n",
       "    </tr>\n",
       "    <tr>\n",
       "      <th>4</th>\n",
       "      <td>0</td>\n",
       "      <td>0</td>\n",
       "      <td>132</td>\n",
       "      <td>5.0</td>\n",
       "      <td>4.0</td>\n",
       "      <td>1.0</td>\n",
       "    </tr>\n",
       "    <tr>\n",
       "      <th>5</th>\n",
       "      <td>0</td>\n",
       "      <td>0</td>\n",
       "      <td>14</td>\n",
       "      <td>5.0</td>\n",
       "      <td>16.0</td>\n",
       "      <td>9.0</td>\n",
       "    </tr>\n",
       "    <tr>\n",
       "      <th>...</th>\n",
       "      <td>...</td>\n",
       "      <td>...</td>\n",
       "      <td>...</td>\n",
       "      <td>...</td>\n",
       "      <td>...</td>\n",
       "      <td>...</td>\n",
       "    </tr>\n",
       "    <tr>\n",
       "      <th>12829</th>\n",
       "      <td>1</td>\n",
       "      <td>0</td>\n",
       "      <td>3</td>\n",
       "      <td>5.0</td>\n",
       "      <td>3.0</td>\n",
       "      <td>1.0</td>\n",
       "    </tr>\n",
       "    <tr>\n",
       "      <th>12855</th>\n",
       "      <td>0</td>\n",
       "      <td>0</td>\n",
       "      <td>3</td>\n",
       "      <td>4.5</td>\n",
       "      <td>4.0</td>\n",
       "      <td>1.0</td>\n",
       "    </tr>\n",
       "    <tr>\n",
       "      <th>12866</th>\n",
       "      <td>1</td>\n",
       "      <td>0</td>\n",
       "      <td>3</td>\n",
       "      <td>5.0</td>\n",
       "      <td>2.0</td>\n",
       "      <td>1.0</td>\n",
       "    </tr>\n",
       "    <tr>\n",
       "      <th>12879</th>\n",
       "      <td>1</td>\n",
       "      <td>0</td>\n",
       "      <td>3</td>\n",
       "      <td>4.5</td>\n",
       "      <td>4.0</td>\n",
       "      <td>1.0</td>\n",
       "    </tr>\n",
       "    <tr>\n",
       "      <th>12881</th>\n",
       "      <td>1</td>\n",
       "      <td>0</td>\n",
       "      <td>4</td>\n",
       "      <td>5.0</td>\n",
       "      <td>2.0</td>\n",
       "      <td>1.0</td>\n",
       "    </tr>\n",
       "  </tbody>\n",
       "</table>\n",
       "<p>9386 rows × 6 columns</p>\n",
       "</div>"
      ],
      "text/plain": [
       "       tipo_Private room  tipo_Shared room  comentarios  satisfaccion  \\\n",
       "0                      0                 0            8           5.0   \n",
       "2                      0                 0           63           5.0   \n",
       "3                      0                 0          225           4.5   \n",
       "4                      0                 0          132           5.0   \n",
       "5                      0                 0           14           5.0   \n",
       "...                  ...               ...          ...           ...   \n",
       "12829                  1                 0            3           5.0   \n",
       "12855                  0                 0            3           4.5   \n",
       "12866                  1                 0            3           5.0   \n",
       "12879                  1                 0            3           4.5   \n",
       "12881                  1                 0            4           5.0   \n",
       "\n",
       "       acomodacion  dormitorios  \n",
       "0              2.0          1.0  \n",
       "2              3.0          1.0  \n",
       "3              4.0          1.0  \n",
       "4              4.0          1.0  \n",
       "5             16.0          9.0  \n",
       "...            ...          ...  \n",
       "12829          3.0          1.0  \n",
       "12855          4.0          1.0  \n",
       "12866          2.0          1.0  \n",
       "12879          4.0          1.0  \n",
       "12881          2.0          1.0  \n",
       "\n",
       "[9386 rows x 6 columns]"
      ]
     },
     "execution_count": 210,
     "metadata": {},
     "output_type": "execute_result"
    }
   ],
   "source": [
    "x = f.iloc[:, 1:-1] \n",
    "y = f.iloc[:, 6:7]\n",
    "x"
   ]
  },
  {
   "cell_type": "code",
   "execution_count": 211,
   "metadata": {},
   "outputs": [
    {
     "data": {
      "text/plain": [
       "pandas.core.frame.DataFrame"
      ]
     },
     "execution_count": 211,
     "metadata": {},
     "output_type": "execute_result"
    }
   ],
   "source": [
    "from sklearn.model_selection import train_test_split\n",
    "x_train, x_test, y_train, y_test = train_test_split(x, y, test_size = 0.8, random_state = 0)\n",
    "type(x_train)"
   ]
  },
  {
   "cell_type": "code",
   "execution_count": 212,
   "metadata": {},
   "outputs": [
    {
     "data": {
      "text/plain": [
       "pandas.core.frame.DataFrame"
      ]
     },
     "execution_count": 212,
     "metadata": {},
     "output_type": "execute_result"
    }
   ],
   "source": [
    "type(y_train)"
   ]
  },
  {
   "cell_type": "code",
   "execution_count": 213,
   "metadata": {},
   "outputs": [
    {
     "name": "stdout",
     "output_type": "stream",
     "text": [
      "       tipo_Private room  tipo_Shared room  comentarios  satisfaccion  \\\n",
      "11235                  0                 1            7           4.5   \n",
      "8790                   1                 0           22           4.0   \n",
      "1104                   0                 0          121           5.0   \n",
      "6007                   0                 0            5           4.5   \n",
      "9300                   1                 0           13           4.5   \n",
      "\n",
      "       acomodacion  dormitorios  \n",
      "11235          1.0          1.0  \n",
      "8790           3.0          1.0  \n",
      "1104           4.0          1.0  \n",
      "6007           4.0          1.0  \n",
      "9300           2.0          1.0  \n",
      "       tipo_Private room  tipo_Shared room  comentarios  satisfaccion  \\\n",
      "4020                   0                 0           90           5.0   \n",
      "448                    0                 0          179           4.5   \n",
      "5401                   0                 0           10           4.0   \n",
      "9277                   0                 0           16           4.5   \n",
      "11582                  0                 0            5           3.5   \n",
      "\n",
      "       acomodacion  dormitorios  \n",
      "4020           4.0          1.0  \n",
      "448            3.0          1.0  \n",
      "5401           4.0          1.0  \n",
      "9277           6.0          2.0  \n",
      "11582          4.0          1.0  \n",
      "       dormitorios\n",
      "11235          1.0\n",
      "8790           1.0\n",
      "1104           1.0\n",
      "6007           1.0\n",
      "9300           1.0\n",
      "       dormitorios\n",
      "4020           1.0\n",
      "448            1.0\n",
      "5401           1.0\n",
      "9277           2.0\n",
      "11582          1.0\n"
     ]
    }
   ],
   "source": [
    "print(x_test.head())\n",
    "print(x_train.head())\n",
    "print(y_test.head())\n",
    "print(y_train.head())"
   ]
  },
  {
   "cell_type": "code",
   "execution_count": 214,
   "metadata": {
    "scrolled": true
   },
   "outputs": [
    {
     "data": {
      "text/plain": [
       "LinearRegression()"
      ]
     },
     "execution_count": 214,
     "metadata": {},
     "output_type": "execute_result"
    }
   ],
   "source": [
    "# Modelo con los datos de entrenamiento\n",
    "from sklearn.linear_model import LinearRegression\n",
    "regression = LinearRegression()\n",
    "regression.fit(x_train, y_train)"
   ]
  },
  {
   "cell_type": "code",
   "execution_count": 215,
   "metadata": {
    "scrolled": true
   },
   "outputs": [],
   "source": [
    "# Predicción con los datos de prueba.\n",
    "y_pred_train = regression.predict(x_test)"
   ]
  },
  {
   "cell_type": "code",
   "execution_count": 216,
   "metadata": {
    "scrolled": false
   },
   "outputs": [
    {
     "data": {
      "text/plain": [
       "array([1., 1., 1., 1., 1., 1., 1., 1., 1., 1.])"
      ]
     },
     "execution_count": 216,
     "metadata": {},
     "output_type": "execute_result"
    }
   ],
   "source": [
    "# Realice una validación cruzada con cv=10\n",
    "# muestre los score, utilice como métrica a R2\n",
    "scores=cross_val_score(regression, x, y, cv=10, scoring=\"r2\")\n",
    "scores"
   ]
  },
  {
   "cell_type": "code",
   "execution_count": 217,
   "metadata": {},
   "outputs": [
    {
     "data": {
      "text/plain": [
       "1.0"
      ]
     },
     "execution_count": 217,
     "metadata": {},
     "output_type": "execute_result"
    }
   ],
   "source": [
    "# Muestre el promedio de score\n",
    "scores.mean()"
   ]
  },
  {
   "cell_type": "markdown",
   "metadata": {},
   "source": [
    "### Evaluacion \n",
    "#### Valor 1"
   ]
  },
  {
   "cell_type": "markdown",
   "metadata": {},
   "source": [
    "Evalue los modelos utilizando la metrica de r cuadrado, comparando los dos resultados anteriores con solo el entrenamiento y con la validación cruzada."
   ]
  },
  {
   "cell_type": "code",
   "execution_count": 218,
   "metadata": {},
   "outputs": [
    {
     "data": {
      "text/plain": [
       "1.0"
      ]
     },
     "execution_count": 218,
     "metadata": {},
     "output_type": "execute_result"
    }
   ],
   "source": [
    "# Encuentre el R2\n",
    "from sklearn.metrics import r2_score\n",
    "r2_score(y_test, y_pred_train)"
   ]
  },
  {
   "cell_type": "code",
   "execution_count": null,
   "metadata": {},
   "outputs": [],
   "source": []
  }
 ],
 "metadata": {
  "kernelspec": {
   "display_name": "Python 3",
   "language": "python",
   "name": "python3"
  },
  "language_info": {
   "codemirror_mode": {
    "name": "ipython",
    "version": 3
   },
   "file_extension": ".py",
   "mimetype": "text/x-python",
   "name": "python",
   "nbconvert_exporter": "python",
   "pygments_lexer": "ipython3",
   "version": "3.8.3"
  }
 },
 "nbformat": 4,
 "nbformat_minor": 2
}
